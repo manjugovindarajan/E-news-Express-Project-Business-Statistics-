{
 "cells": [
  {
   "cell_type": "markdown",
   "id": "6yDxo9u0d9Na",
   "metadata": {
    "id": "6yDxo9u0d9Na"
   },
   "source": [
    "# Project Business Statistics: E-news Express\n",
    "\n",
    "**Marks: 60**"
   ]
  },
  {
   "cell_type": "markdown",
   "id": "9Vt1PLLqmXNn",
   "metadata": {
    "id": "9Vt1PLLqmXNn"
   },
   "source": [
    "\n",
    "## Business Context\n",
    "\n",
    "The advent of e-news, or electronic news, portals has offered us a great opportunity to quickly get updates on day-to-day events occurring globally. Information on these portals is retrieved electronically from online databases, processed using a variety of software, and then transmitted to users. There are multiple advantages of transmitting new electronically, like faster access to content and ability to utilize different technologies such as audio, graphics, video, and other interactive elements that are either not being used or aren’t common yet in traditional newspapers.\n",
    "\n",
    "E-news Express, an online news portal, aims to expand its business by acquiring new subscribers. With every visitor to the website taking certain actions based on their interest, the company plans to analyze these actions to understand user interests and determine how to drive better engagement.  The executives at E-news Express are of the opinion that there has been a decline in new monthly subscribers compared to the past year because the current webpage is not designed well enough in terms of outline & recommended content to keep customers engaged long enough to make a decision to subscribe.\n",
    "\n",
    "\n",
    "## Problem statement and objective\n",
    "\n",
    "The design team of the company has researched and created a new landing page that has a new outline & more relevant content shown compared to the old page. In order to test the effectiveness of the new landing page in gathering new subscribers, the Data Science team conducted an experiment by randomly selecting 100 users and dividing them equally into two groups. The existing landing page was served to the first group (control group) and the new landing page to the second group (treatment group). Data regarding the interaction of users in both groups with the two versions of the landing page was collected. Being a data scientist in E-news Express, you have been asked to explore the data and perform a statistical analysis (at a significance level of 5%) to determine the effectiveness of the new landing page in gathering new subscribers for the news portal by answering the following questions:\n",
    "\n",
    "1. Do users spend more time on new landing page than on existing landing page?\n",
    "\n",
    "2. Is conversion rate (the proportion of users who visit the landing page and get converted) for new page greater than conversion rate for old page?\n",
    "\n",
    "3. Does converted status depend on preferred language?\n",
    "\n",
    "4. Is time spent on new page the same for different language users?\n",
    "\n",
    "\n",
    "## Data Dictionary\n",
    "\n",
    "The data contains information regarding interaction of users in both groups with two versions of landing page.\n",
    "\n",
    "1. user_id - Unique user ID of person visiting website\n",
    "\n",
    "2. group - Whether user belongs to first group (control) or second group (treatment)\n",
    "\n",
    "3. landing_page - Whether landing page is new or old\n",
    "\n",
    "4. time_spent_on_the_page - Time (in minutes) spent by user on landing page\n",
    "\n",
    "5. converted - Whether user gets converted to a subscriber of news portal or not\n",
    "\n",
    "6. language_preferred - Language chosen by user to view landing page"
   ]
  },
  {
   "cell_type": "markdown",
   "id": "a6a3d218",
   "metadata": {
    "id": "a6a3d218"
   },
   "source": [
    "## Import all necessary libraries"
   ]
  },
  {
   "cell_type": "code",
   "execution_count": 1,
   "id": "658c5dec",
   "metadata": {
    "id": "658c5dec"
   },
   "outputs": [],
   "source": [
    "import numpy as np\n",
    "import pandas as pd\n",
    "from matplotlib import pyplot as plt\n",
    "import seaborn as sns"
   ]
  },
  {
   "cell_type": "markdown",
   "id": "6970dd99",
   "metadata": {
    "id": "6970dd99"
   },
   "source": [
    "## Reading Data into a DataFrame"
   ]
  },
  {
   "cell_type": "code",
   "execution_count": 2,
   "id": "d3b95640",
   "metadata": {
    "id": "d3b95640"
   },
   "outputs": [
    {
     "data": {
      "text/html": [
       "<div>\n",
       "<style scoped>\n",
       "    .dataframe tbody tr th:only-of-type {\n",
       "        vertical-align: middle;\n",
       "    }\n",
       "\n",
       "    .dataframe tbody tr th {\n",
       "        vertical-align: top;\n",
       "    }\n",
       "\n",
       "    .dataframe thead th {\n",
       "        text-align: right;\n",
       "    }\n",
       "</style>\n",
       "<table border=\"1\" class=\"dataframe\">\n",
       "  <thead>\n",
       "    <tr style=\"text-align: right;\">\n",
       "      <th></th>\n",
       "      <th>user_id</th>\n",
       "      <th>group</th>\n",
       "      <th>landing_page</th>\n",
       "      <th>time_spent_on_the_page</th>\n",
       "      <th>converted</th>\n",
       "      <th>language_preferred</th>\n",
       "    </tr>\n",
       "  </thead>\n",
       "  <tbody>\n",
       "    <tr>\n",
       "      <th>0</th>\n",
       "      <td>546592</td>\n",
       "      <td>control</td>\n",
       "      <td>old</td>\n",
       "      <td>3.48</td>\n",
       "      <td>no</td>\n",
       "      <td>Spanish</td>\n",
       "    </tr>\n",
       "    <tr>\n",
       "      <th>1</th>\n",
       "      <td>546468</td>\n",
       "      <td>treatment</td>\n",
       "      <td>new</td>\n",
       "      <td>7.13</td>\n",
       "      <td>yes</td>\n",
       "      <td>English</td>\n",
       "    </tr>\n",
       "    <tr>\n",
       "      <th>2</th>\n",
       "      <td>546462</td>\n",
       "      <td>treatment</td>\n",
       "      <td>new</td>\n",
       "      <td>4.40</td>\n",
       "      <td>no</td>\n",
       "      <td>Spanish</td>\n",
       "    </tr>\n",
       "    <tr>\n",
       "      <th>3</th>\n",
       "      <td>546567</td>\n",
       "      <td>control</td>\n",
       "      <td>old</td>\n",
       "      <td>3.02</td>\n",
       "      <td>no</td>\n",
       "      <td>French</td>\n",
       "    </tr>\n",
       "    <tr>\n",
       "      <th>4</th>\n",
       "      <td>546459</td>\n",
       "      <td>treatment</td>\n",
       "      <td>new</td>\n",
       "      <td>4.75</td>\n",
       "      <td>yes</td>\n",
       "      <td>Spanish</td>\n",
       "    </tr>\n",
       "    <tr>\n",
       "      <th>...</th>\n",
       "      <td>...</td>\n",
       "      <td>...</td>\n",
       "      <td>...</td>\n",
       "      <td>...</td>\n",
       "      <td>...</td>\n",
       "      <td>...</td>\n",
       "    </tr>\n",
       "    <tr>\n",
       "      <th>95</th>\n",
       "      <td>546446</td>\n",
       "      <td>treatment</td>\n",
       "      <td>new</td>\n",
       "      <td>5.15</td>\n",
       "      <td>no</td>\n",
       "      <td>Spanish</td>\n",
       "    </tr>\n",
       "    <tr>\n",
       "      <th>96</th>\n",
       "      <td>546544</td>\n",
       "      <td>control</td>\n",
       "      <td>old</td>\n",
       "      <td>6.52</td>\n",
       "      <td>yes</td>\n",
       "      <td>English</td>\n",
       "    </tr>\n",
       "    <tr>\n",
       "      <th>97</th>\n",
       "      <td>546472</td>\n",
       "      <td>treatment</td>\n",
       "      <td>new</td>\n",
       "      <td>7.07</td>\n",
       "      <td>yes</td>\n",
       "      <td>Spanish</td>\n",
       "    </tr>\n",
       "    <tr>\n",
       "      <th>98</th>\n",
       "      <td>546481</td>\n",
       "      <td>treatment</td>\n",
       "      <td>new</td>\n",
       "      <td>6.20</td>\n",
       "      <td>yes</td>\n",
       "      <td>Spanish</td>\n",
       "    </tr>\n",
       "    <tr>\n",
       "      <th>99</th>\n",
       "      <td>546483</td>\n",
       "      <td>treatment</td>\n",
       "      <td>new</td>\n",
       "      <td>5.86</td>\n",
       "      <td>yes</td>\n",
       "      <td>English</td>\n",
       "    </tr>\n",
       "  </tbody>\n",
       "</table>\n",
       "<p>100 rows × 6 columns</p>\n",
       "</div>"
      ],
      "text/plain": [
       "    user_id      group landing_page  time_spent_on_the_page converted  \\\n",
       "0    546592    control          old                    3.48        no   \n",
       "1    546468  treatment          new                    7.13       yes   \n",
       "2    546462  treatment          new                    4.40        no   \n",
       "3    546567    control          old                    3.02        no   \n",
       "4    546459  treatment          new                    4.75       yes   \n",
       "..      ...        ...          ...                     ...       ...   \n",
       "95   546446  treatment          new                    5.15        no   \n",
       "96   546544    control          old                    6.52       yes   \n",
       "97   546472  treatment          new                    7.07       yes   \n",
       "98   546481  treatment          new                    6.20       yes   \n",
       "99   546483  treatment          new                    5.86       yes   \n",
       "\n",
       "   language_preferred  \n",
       "0             Spanish  \n",
       "1             English  \n",
       "2             Spanish  \n",
       "3              French  \n",
       "4             Spanish  \n",
       "..                ...  \n",
       "95            Spanish  \n",
       "96            English  \n",
       "97            Spanish  \n",
       "98            Spanish  \n",
       "99            English  \n",
       "\n",
       "[100 rows x 6 columns]"
      ]
     },
     "execution_count": 2,
     "metadata": {},
     "output_type": "execute_result"
    }
   ],
   "source": [
    "data = pd.read_csv('abtest.csv')\n",
    "data"
   ]
  },
  {
   "cell_type": "code",
   "execution_count": 3,
   "id": "29feace5",
   "metadata": {},
   "outputs": [
    {
     "data": {
      "text/html": [
       "<div>\n",
       "<style scoped>\n",
       "    .dataframe tbody tr th:only-of-type {\n",
       "        vertical-align: middle;\n",
       "    }\n",
       "\n",
       "    .dataframe tbody tr th {\n",
       "        vertical-align: top;\n",
       "    }\n",
       "\n",
       "    .dataframe thead th {\n",
       "        text-align: right;\n",
       "    }\n",
       "</style>\n",
       "<table border=\"1\" class=\"dataframe\">\n",
       "  <thead>\n",
       "    <tr style=\"text-align: right;\">\n",
       "      <th></th>\n",
       "      <th>user_id</th>\n",
       "      <th>group</th>\n",
       "      <th>landing_page</th>\n",
       "      <th>time_spent_on_the_page</th>\n",
       "      <th>converted</th>\n",
       "      <th>language_preferred</th>\n",
       "    </tr>\n",
       "  </thead>\n",
       "  <tbody>\n",
       "    <tr>\n",
       "      <th>0</th>\n",
       "      <td>546592</td>\n",
       "      <td>control</td>\n",
       "      <td>old</td>\n",
       "      <td>3.48</td>\n",
       "      <td>no</td>\n",
       "      <td>Spanish</td>\n",
       "    </tr>\n",
       "    <tr>\n",
       "      <th>1</th>\n",
       "      <td>546468</td>\n",
       "      <td>treatment</td>\n",
       "      <td>new</td>\n",
       "      <td>7.13</td>\n",
       "      <td>yes</td>\n",
       "      <td>English</td>\n",
       "    </tr>\n",
       "    <tr>\n",
       "      <th>2</th>\n",
       "      <td>546462</td>\n",
       "      <td>treatment</td>\n",
       "      <td>new</td>\n",
       "      <td>4.40</td>\n",
       "      <td>no</td>\n",
       "      <td>Spanish</td>\n",
       "    </tr>\n",
       "    <tr>\n",
       "      <th>3</th>\n",
       "      <td>546567</td>\n",
       "      <td>control</td>\n",
       "      <td>old</td>\n",
       "      <td>3.02</td>\n",
       "      <td>no</td>\n",
       "      <td>French</td>\n",
       "    </tr>\n",
       "    <tr>\n",
       "      <th>4</th>\n",
       "      <td>546459</td>\n",
       "      <td>treatment</td>\n",
       "      <td>new</td>\n",
       "      <td>4.75</td>\n",
       "      <td>yes</td>\n",
       "      <td>Spanish</td>\n",
       "    </tr>\n",
       "    <tr>\n",
       "      <th>...</th>\n",
       "      <td>...</td>\n",
       "      <td>...</td>\n",
       "      <td>...</td>\n",
       "      <td>...</td>\n",
       "      <td>...</td>\n",
       "      <td>...</td>\n",
       "    </tr>\n",
       "    <tr>\n",
       "      <th>95</th>\n",
       "      <td>546446</td>\n",
       "      <td>treatment</td>\n",
       "      <td>new</td>\n",
       "      <td>5.15</td>\n",
       "      <td>no</td>\n",
       "      <td>Spanish</td>\n",
       "    </tr>\n",
       "    <tr>\n",
       "      <th>96</th>\n",
       "      <td>546544</td>\n",
       "      <td>control</td>\n",
       "      <td>old</td>\n",
       "      <td>6.52</td>\n",
       "      <td>yes</td>\n",
       "      <td>English</td>\n",
       "    </tr>\n",
       "    <tr>\n",
       "      <th>97</th>\n",
       "      <td>546472</td>\n",
       "      <td>treatment</td>\n",
       "      <td>new</td>\n",
       "      <td>7.07</td>\n",
       "      <td>yes</td>\n",
       "      <td>Spanish</td>\n",
       "    </tr>\n",
       "    <tr>\n",
       "      <th>98</th>\n",
       "      <td>546481</td>\n",
       "      <td>treatment</td>\n",
       "      <td>new</td>\n",
       "      <td>6.20</td>\n",
       "      <td>yes</td>\n",
       "      <td>Spanish</td>\n",
       "    </tr>\n",
       "    <tr>\n",
       "      <th>99</th>\n",
       "      <td>546483</td>\n",
       "      <td>treatment</td>\n",
       "      <td>new</td>\n",
       "      <td>5.86</td>\n",
       "      <td>yes</td>\n",
       "      <td>English</td>\n",
       "    </tr>\n",
       "  </tbody>\n",
       "</table>\n",
       "<p>100 rows × 6 columns</p>\n",
       "</div>"
      ],
      "text/plain": [
       "    user_id      group landing_page  time_spent_on_the_page converted  \\\n",
       "0    546592    control          old                    3.48        no   \n",
       "1    546468  treatment          new                    7.13       yes   \n",
       "2    546462  treatment          new                    4.40        no   \n",
       "3    546567    control          old                    3.02        no   \n",
       "4    546459  treatment          new                    4.75       yes   \n",
       "..      ...        ...          ...                     ...       ...   \n",
       "95   546446  treatment          new                    5.15        no   \n",
       "96   546544    control          old                    6.52       yes   \n",
       "97   546472  treatment          new                    7.07       yes   \n",
       "98   546481  treatment          new                    6.20       yes   \n",
       "99   546483  treatment          new                    5.86       yes   \n",
       "\n",
       "   language_preferred  \n",
       "0             Spanish  \n",
       "1             English  \n",
       "2             Spanish  \n",
       "3              French  \n",
       "4             Spanish  \n",
       "..                ...  \n",
       "95            Spanish  \n",
       "96            English  \n",
       "97            Spanish  \n",
       "98            Spanish  \n",
       "99            English  \n",
       "\n",
       "[100 rows x 6 columns]"
      ]
     },
     "execution_count": 3,
     "metadata": {},
     "output_type": "execute_result"
    }
   ],
   "source": [
    "df = data.copy()  # create a copy of original dataset for further use\n",
    "df"
   ]
  },
  {
   "cell_type": "markdown",
   "id": "12753856",
   "metadata": {
    "id": "e1ad11d4"
   },
   "source": [
    "### Data Overview"
   ]
  },
  {
   "cell_type": "code",
   "execution_count": 4,
   "id": "b2320550",
   "metadata": {},
   "outputs": [
    {
     "data": {
      "text/html": [
       "<div>\n",
       "<style scoped>\n",
       "    .dataframe tbody tr th:only-of-type {\n",
       "        vertical-align: middle;\n",
       "    }\n",
       "\n",
       "    .dataframe tbody tr th {\n",
       "        vertical-align: top;\n",
       "    }\n",
       "\n",
       "    .dataframe thead th {\n",
       "        text-align: right;\n",
       "    }\n",
       "</style>\n",
       "<table border=\"1\" class=\"dataframe\">\n",
       "  <thead>\n",
       "    <tr style=\"text-align: right;\">\n",
       "      <th></th>\n",
       "      <th>user_id</th>\n",
       "      <th>group</th>\n",
       "      <th>landing_page</th>\n",
       "      <th>time_spent_on_the_page</th>\n",
       "      <th>converted</th>\n",
       "      <th>language_preferred</th>\n",
       "    </tr>\n",
       "  </thead>\n",
       "  <tbody>\n",
       "    <tr>\n",
       "      <th>0</th>\n",
       "      <td>546592</td>\n",
       "      <td>control</td>\n",
       "      <td>old</td>\n",
       "      <td>3.48</td>\n",
       "      <td>no</td>\n",
       "      <td>Spanish</td>\n",
       "    </tr>\n",
       "    <tr>\n",
       "      <th>1</th>\n",
       "      <td>546468</td>\n",
       "      <td>treatment</td>\n",
       "      <td>new</td>\n",
       "      <td>7.13</td>\n",
       "      <td>yes</td>\n",
       "      <td>English</td>\n",
       "    </tr>\n",
       "    <tr>\n",
       "      <th>2</th>\n",
       "      <td>546462</td>\n",
       "      <td>treatment</td>\n",
       "      <td>new</td>\n",
       "      <td>4.40</td>\n",
       "      <td>no</td>\n",
       "      <td>Spanish</td>\n",
       "    </tr>\n",
       "    <tr>\n",
       "      <th>3</th>\n",
       "      <td>546567</td>\n",
       "      <td>control</td>\n",
       "      <td>old</td>\n",
       "      <td>3.02</td>\n",
       "      <td>no</td>\n",
       "      <td>French</td>\n",
       "    </tr>\n",
       "    <tr>\n",
       "      <th>4</th>\n",
       "      <td>546459</td>\n",
       "      <td>treatment</td>\n",
       "      <td>new</td>\n",
       "      <td>4.75</td>\n",
       "      <td>yes</td>\n",
       "      <td>Spanish</td>\n",
       "    </tr>\n",
       "  </tbody>\n",
       "</table>\n",
       "</div>"
      ],
      "text/plain": [
       "   user_id      group landing_page  time_spent_on_the_page converted  \\\n",
       "0   546592    control          old                    3.48        no   \n",
       "1   546468  treatment          new                    7.13       yes   \n",
       "2   546462  treatment          new                    4.40        no   \n",
       "3   546567    control          old                    3.02        no   \n",
       "4   546459  treatment          new                    4.75       yes   \n",
       "\n",
       "  language_preferred  \n",
       "0            Spanish  \n",
       "1            English  \n",
       "2            Spanish  \n",
       "3             French  \n",
       "4            Spanish  "
      ]
     },
     "execution_count": 4,
     "metadata": {},
     "output_type": "execute_result"
    }
   ],
   "source": [
    "# Viewing first few rows of dataset\n",
    "df.head()"
   ]
  },
  {
   "cell_type": "code",
   "execution_count": 5,
   "id": "82191a13",
   "metadata": {},
   "outputs": [
    {
     "data": {
      "text/html": [
       "<div>\n",
       "<style scoped>\n",
       "    .dataframe tbody tr th:only-of-type {\n",
       "        vertical-align: middle;\n",
       "    }\n",
       "\n",
       "    .dataframe tbody tr th {\n",
       "        vertical-align: top;\n",
       "    }\n",
       "\n",
       "    .dataframe thead th {\n",
       "        text-align: right;\n",
       "    }\n",
       "</style>\n",
       "<table border=\"1\" class=\"dataframe\">\n",
       "  <thead>\n",
       "    <tr style=\"text-align: right;\">\n",
       "      <th></th>\n",
       "      <th>user_id</th>\n",
       "      <th>group</th>\n",
       "      <th>landing_page</th>\n",
       "      <th>time_spent_on_the_page</th>\n",
       "      <th>converted</th>\n",
       "      <th>language_preferred</th>\n",
       "    </tr>\n",
       "  </thead>\n",
       "  <tbody>\n",
       "    <tr>\n",
       "      <th>95</th>\n",
       "      <td>546446</td>\n",
       "      <td>treatment</td>\n",
       "      <td>new</td>\n",
       "      <td>5.15</td>\n",
       "      <td>no</td>\n",
       "      <td>Spanish</td>\n",
       "    </tr>\n",
       "    <tr>\n",
       "      <th>96</th>\n",
       "      <td>546544</td>\n",
       "      <td>control</td>\n",
       "      <td>old</td>\n",
       "      <td>6.52</td>\n",
       "      <td>yes</td>\n",
       "      <td>English</td>\n",
       "    </tr>\n",
       "    <tr>\n",
       "      <th>97</th>\n",
       "      <td>546472</td>\n",
       "      <td>treatment</td>\n",
       "      <td>new</td>\n",
       "      <td>7.07</td>\n",
       "      <td>yes</td>\n",
       "      <td>Spanish</td>\n",
       "    </tr>\n",
       "    <tr>\n",
       "      <th>98</th>\n",
       "      <td>546481</td>\n",
       "      <td>treatment</td>\n",
       "      <td>new</td>\n",
       "      <td>6.20</td>\n",
       "      <td>yes</td>\n",
       "      <td>Spanish</td>\n",
       "    </tr>\n",
       "    <tr>\n",
       "      <th>99</th>\n",
       "      <td>546483</td>\n",
       "      <td>treatment</td>\n",
       "      <td>new</td>\n",
       "      <td>5.86</td>\n",
       "      <td>yes</td>\n",
       "      <td>English</td>\n",
       "    </tr>\n",
       "  </tbody>\n",
       "</table>\n",
       "</div>"
      ],
      "text/plain": [
       "    user_id      group landing_page  time_spent_on_the_page converted  \\\n",
       "95   546446  treatment          new                    5.15        no   \n",
       "96   546544    control          old                    6.52       yes   \n",
       "97   546472  treatment          new                    7.07       yes   \n",
       "98   546481  treatment          new                    6.20       yes   \n",
       "99   546483  treatment          new                    5.86       yes   \n",
       "\n",
       "   language_preferred  \n",
       "95            Spanish  \n",
       "96            English  \n",
       "97            Spanish  \n",
       "98            Spanish  \n",
       "99            English  "
      ]
     },
     "execution_count": 5,
     "metadata": {},
     "output_type": "execute_result"
    }
   ],
   "source": [
    "# Viewing last few rows of dataset\n",
    "df.tail()"
   ]
  },
  {
   "cell_type": "code",
   "execution_count": 6,
   "id": "0360f737",
   "metadata": {},
   "outputs": [
    {
     "data": {
      "text/plain": [
       "(100, 6)"
      ]
     },
     "execution_count": 6,
     "metadata": {},
     "output_type": "execute_result"
    }
   ],
   "source": [
    "# view shape of dataset\n",
    "df.shape"
   ]
  },
  {
   "cell_type": "code",
   "execution_count": 7,
   "id": "2236eadb",
   "metadata": {},
   "outputs": [
    {
     "name": "stdout",
     "output_type": "stream",
     "text": [
      "<class 'pandas.core.frame.DataFrame'>\n",
      "RangeIndex: 100 entries, 0 to 99\n",
      "Data columns (total 6 columns):\n",
      " #   Column                  Non-Null Count  Dtype  \n",
      "---  ------                  --------------  -----  \n",
      " 0   user_id                 100 non-null    int64  \n",
      " 1   group                   100 non-null    object \n",
      " 2   landing_page            100 non-null    object \n",
      " 3   time_spent_on_the_page  100 non-null    float64\n",
      " 4   converted               100 non-null    object \n",
      " 5   language_preferred      100 non-null    object \n",
      "dtypes: float64(1), int64(1), object(4)\n",
      "memory usage: 4.8+ KB\n"
     ]
    }
   ],
   "source": [
    "# check data types of columns in dataset\n",
    "df.info()"
   ]
  },
  {
   "cell_type": "markdown",
   "id": "4daa82ba",
   "metadata": {},
   "source": [
    "####Observations:\n",
    "\n",
    "* There are two numerical variables: user_id, time_spent_on_the_page\n",
    "* There are 4 categorical variables: group,landing_page,converted,language_preferred"
   ]
  },
  {
   "cell_type": "code",
   "execution_count": 8,
   "id": "f130f3f5",
   "metadata": {},
   "outputs": [
    {
     "data": {
      "text/html": [
       "<div>\n",
       "<style scoped>\n",
       "    .dataframe tbody tr th:only-of-type {\n",
       "        vertical-align: middle;\n",
       "    }\n",
       "\n",
       "    .dataframe tbody tr th {\n",
       "        vertical-align: top;\n",
       "    }\n",
       "\n",
       "    .dataframe thead th {\n",
       "        text-align: right;\n",
       "    }\n",
       "</style>\n",
       "<table border=\"1\" class=\"dataframe\">\n",
       "  <thead>\n",
       "    <tr style=\"text-align: right;\">\n",
       "      <th></th>\n",
       "      <th>user_id</th>\n",
       "      <th>group</th>\n",
       "      <th>landing_page</th>\n",
       "      <th>time_spent_on_the_page</th>\n",
       "      <th>converted</th>\n",
       "      <th>language_preferred</th>\n",
       "    </tr>\n",
       "  </thead>\n",
       "  <tbody>\n",
       "    <tr>\n",
       "      <th>count</th>\n",
       "      <td>100.000000</td>\n",
       "      <td>100</td>\n",
       "      <td>100</td>\n",
       "      <td>100.000000</td>\n",
       "      <td>100</td>\n",
       "      <td>100</td>\n",
       "    </tr>\n",
       "    <tr>\n",
       "      <th>unique</th>\n",
       "      <td>NaN</td>\n",
       "      <td>2</td>\n",
       "      <td>2</td>\n",
       "      <td>NaN</td>\n",
       "      <td>2</td>\n",
       "      <td>3</td>\n",
       "    </tr>\n",
       "    <tr>\n",
       "      <th>top</th>\n",
       "      <td>NaN</td>\n",
       "      <td>control</td>\n",
       "      <td>old</td>\n",
       "      <td>NaN</td>\n",
       "      <td>yes</td>\n",
       "      <td>Spanish</td>\n",
       "    </tr>\n",
       "    <tr>\n",
       "      <th>freq</th>\n",
       "      <td>NaN</td>\n",
       "      <td>50</td>\n",
       "      <td>50</td>\n",
       "      <td>NaN</td>\n",
       "      <td>54</td>\n",
       "      <td>34</td>\n",
       "    </tr>\n",
       "    <tr>\n",
       "      <th>mean</th>\n",
       "      <td>546517.000000</td>\n",
       "      <td>NaN</td>\n",
       "      <td>NaN</td>\n",
       "      <td>5.377800</td>\n",
       "      <td>NaN</td>\n",
       "      <td>NaN</td>\n",
       "    </tr>\n",
       "    <tr>\n",
       "      <th>std</th>\n",
       "      <td>52.295779</td>\n",
       "      <td>NaN</td>\n",
       "      <td>NaN</td>\n",
       "      <td>2.378166</td>\n",
       "      <td>NaN</td>\n",
       "      <td>NaN</td>\n",
       "    </tr>\n",
       "    <tr>\n",
       "      <th>min</th>\n",
       "      <td>546443.000000</td>\n",
       "      <td>NaN</td>\n",
       "      <td>NaN</td>\n",
       "      <td>0.190000</td>\n",
       "      <td>NaN</td>\n",
       "      <td>NaN</td>\n",
       "    </tr>\n",
       "    <tr>\n",
       "      <th>25%</th>\n",
       "      <td>546467.750000</td>\n",
       "      <td>NaN</td>\n",
       "      <td>NaN</td>\n",
       "      <td>3.880000</td>\n",
       "      <td>NaN</td>\n",
       "      <td>NaN</td>\n",
       "    </tr>\n",
       "    <tr>\n",
       "      <th>50%</th>\n",
       "      <td>546492.500000</td>\n",
       "      <td>NaN</td>\n",
       "      <td>NaN</td>\n",
       "      <td>5.415000</td>\n",
       "      <td>NaN</td>\n",
       "      <td>NaN</td>\n",
       "    </tr>\n",
       "    <tr>\n",
       "      <th>75%</th>\n",
       "      <td>546567.250000</td>\n",
       "      <td>NaN</td>\n",
       "      <td>NaN</td>\n",
       "      <td>7.022500</td>\n",
       "      <td>NaN</td>\n",
       "      <td>NaN</td>\n",
       "    </tr>\n",
       "    <tr>\n",
       "      <th>max</th>\n",
       "      <td>546592.000000</td>\n",
       "      <td>NaN</td>\n",
       "      <td>NaN</td>\n",
       "      <td>10.710000</td>\n",
       "      <td>NaN</td>\n",
       "      <td>NaN</td>\n",
       "    </tr>\n",
       "  </tbody>\n",
       "</table>\n",
       "</div>"
      ],
      "text/plain": [
       "              user_id    group landing_page  time_spent_on_the_page converted  \\\n",
       "count      100.000000      100          100              100.000000       100   \n",
       "unique            NaN        2            2                     NaN         2   \n",
       "top               NaN  control          old                     NaN       yes   \n",
       "freq              NaN       50           50                     NaN        54   \n",
       "mean    546517.000000      NaN          NaN                5.377800       NaN   \n",
       "std         52.295779      NaN          NaN                2.378166       NaN   \n",
       "min     546443.000000      NaN          NaN                0.190000       NaN   \n",
       "25%     546467.750000      NaN          NaN                3.880000       NaN   \n",
       "50%     546492.500000      NaN          NaN                5.415000       NaN   \n",
       "75%     546567.250000      NaN          NaN                7.022500       NaN   \n",
       "max     546592.000000      NaN          NaN               10.710000       NaN   \n",
       "\n",
       "       language_preferred  \n",
       "count                 100  \n",
       "unique                  3  \n",
       "top               Spanish  \n",
       "freq                   34  \n",
       "mean                  NaN  \n",
       "std                   NaN  \n",
       "min                   NaN  \n",
       "25%                   NaN  \n",
       "50%                   NaN  \n",
       "75%                   NaN  \n",
       "max                   NaN  "
      ]
     },
     "execution_count": 8,
     "metadata": {},
     "output_type": "execute_result"
    }
   ],
   "source": [
    "# Statistical summary for all variables\n",
    "df.describe(include = 'all')"
   ]
  },
  {
   "cell_type": "markdown",
   "id": "5e653f98",
   "metadata": {},
   "source": [
    "#### Observations:\n",
    "\n",
    "* Mean time spent on the page is 5.37 minutes. Minimum time spent is 0.19, max time is 10.71 minutes respectively. Standard deviation being 2.71 minutes.\n",
    "* There are 3 unique language users, Spanish being the most common, 34(out of 100) are Spanish speakers.\n",
    "* There are 2 unique values in \"converted\" column, yes and no. 54(out of 100) users got converted to subscribers.\n",
    "* There are 2 unique groups, control and treatment, each with 50 users as described in business context.\n",
    "* There are two unique landing pages, old and new, each with 50 users as described in business context.\n",
    "* user_id is the unique id of person visiting website, no meaningful insights from analyzing this variable."
   ]
  },
  {
   "cell_type": "code",
   "execution_count": 9,
   "id": "4e64a242",
   "metadata": {},
   "outputs": [
    {
     "data": {
      "text/plain": [
       "False"
      ]
     },
     "execution_count": 9,
     "metadata": {},
     "output_type": "execute_result"
    }
   ],
   "source": [
    "# Check for missing values\n",
    "df.isnull().values.any()"
   ]
  },
  {
   "cell_type": "code",
   "execution_count": 10,
   "id": "96ee2ef5",
   "metadata": {},
   "outputs": [
    {
     "data": {
      "text/plain": [
       "user_id                   0\n",
       "group                     0\n",
       "landing_page              0\n",
       "time_spent_on_the_page    0\n",
       "converted                 0\n",
       "language_preferred        0\n",
       "dtype: int64"
      ]
     },
     "execution_count": 10,
     "metadata": {},
     "output_type": "execute_result"
    }
   ],
   "source": [
    "# check for missing values\n",
    "df.isnull().sum()"
   ]
  },
  {
   "cell_type": "markdown",
   "id": "26badd22",
   "metadata": {},
   "source": [
    "There are no missing values in any column of dataset."
   ]
  },
  {
   "cell_type": "code",
   "execution_count": 11,
   "id": "8b7221dc",
   "metadata": {},
   "outputs": [
    {
     "data": {
      "text/plain": [
       "0"
      ]
     },
     "execution_count": 11,
     "metadata": {},
     "output_type": "execute_result"
    }
   ],
   "source": [
    " # Check for duplicate rows\n",
    "df[df.duplicated()].shape[0]"
   ]
  },
  {
   "cell_type": "markdown",
   "id": "0dcb3aa7",
   "metadata": {},
   "source": [
    "There are no duplicate rows in dataset."
   ]
  },
  {
   "cell_type": "markdown",
   "id": "68f3b2c9",
   "metadata": {
    "id": "68f3b2c9"
   },
   "source": [
    "### Univariate Analysis"
   ]
  },
  {
   "cell_type": "markdown",
   "id": "33a82500",
   "metadata": {
    "id": "1932d0f3"
   },
   "source": [
    "#### Time spent on the page"
   ]
  },
  {
   "cell_type": "code",
   "execution_count": 12,
   "id": "08120832",
   "metadata": {
    "scrolled": true
   },
   "outputs": [
    {
     "data": {
      "image/png": "[encoded data removed]",
      "text/plain": [
       "<Figure size 640x480 with 1 Axes>"
      ]
     },
     "metadata": {},
     "output_type": "display_data"
    },
    {
     "data": {
      "image/png": "[encoded data removed]",
      "text/plain": [
       "<Figure size 640x480 with 1 Axes>"
      ]
     },
     "metadata": {},
     "output_type": "display_data"
    }
   ],
   "source": [
    "sns.histplot(data=df,x='time_spent_on_the_page', kde = True) #histogram to plot time spent on page distribution\n",
    "plt.show()\n",
    "sns.boxplot(data=df,x='time_spent_on_the_page')  #boxplot to show 5 point summary of time spent on page column\n",
    "plt.show()"
   ]
  },
  {
   "cell_type": "markdown",
   "id": "c07b4847",
   "metadata": {},
   "source": [
    "#### Observations:\n",
    "\n",
    "* Time_spent_on_the_page histogram suggests normal distribution.\n",
    "* Values range between 0.2 - 11 minutes.\n",
    "* Mean time spent on page is 5.37 minutes.\n",
    "* Minimum time spent on page is 0.19 minutes.\n",
    "* Maximum time spent on page is 10.71 minutes.\n",
    "* Standard deviation is 2.37 minutes.\n",
    "* 50% of subscribers spend about 5.41 minutes on the page.\n",
    "* Q1(1st quartile) is about 4 minutes, Q3(3rd quartile) is about 7 minutes.\n",
    "* There are no outliers in data, no unusually small or large data points in terms of time spent."
   ]
  },
  {
   "cell_type": "markdown",
   "id": "eee6dcab",
   "metadata": {},
   "source": [
    "#### Group"
   ]
  },
  {
   "cell_type": "code",
   "execution_count": 13,
   "id": "11a34810",
   "metadata": {},
   "outputs": [
    {
     "data": {
      "text/plain": [
       "control      50\n",
       "treatment    50\n",
       "Name: group, dtype: int64"
      ]
     },
     "execution_count": 13,
     "metadata": {},
     "output_type": "execute_result"
    }
   ],
   "source": [
    "df['group'].value_counts() # returns unique values in \"group\" column"
   ]
  },
  {
   "cell_type": "code",
   "execution_count": 14,
   "id": "81c776c7",
   "metadata": {},
   "outputs": [
    {
     "data": {
      "image/png": "[encoded data removed]",
      "text/plain": [
       "<Figure size 640x480 with 1 Axes>"
      ]
     },
     "metadata": {},
     "output_type": "display_data"
    }
   ],
   "source": [
    "sns.countplot(data=df,x='group') #plot to show counts of control and treatment groups \n",
    "plt.show()"
   ]
  },
  {
   "cell_type": "markdown",
   "id": "ffb9c76c",
   "metadata": {},
   "source": [
    "#### Observations:\n",
    "\n",
    "* Per problem statement, there are two unique values in \"group\" column - Control and Treatment.\n",
    "* Per problem statement, Control and Treatment groups have equal users(50)."
   ]
  },
  {
   "cell_type": "markdown",
   "id": "4266f7c1",
   "metadata": {},
   "source": [
    "#### Landing page"
   ]
  },
  {
   "cell_type": "code",
   "execution_count": 15,
   "id": "fee69ba1",
   "metadata": {},
   "outputs": [
    {
     "data": {
      "text/plain": [
       "old    50\n",
       "new    50\n",
       "Name: landing_page, dtype: int64"
      ]
     },
     "execution_count": 15,
     "metadata": {},
     "output_type": "execute_result"
    }
   ],
   "source": [
    "df['landing_page'].value_counts() # returns unique values in \"landing_page\" column"
   ]
  },
  {
   "cell_type": "code",
   "execution_count": 16,
   "id": "81c2ac18",
   "metadata": {},
   "outputs": [
    {
     "data": {
      "image/png": "[encoded data removed]",
      "text/plain": [
       "<Figure size 640x480 with 1 Axes>"
      ]
     },
     "metadata": {},
     "output_type": "display_data"
    }
   ],
   "source": [
    "sns.countplot(data=df,x='landing_page') #plot to show counts of landing page\n",
    "plt.show()"
   ]
  },
  {
   "cell_type": "markdown",
   "id": "453180ec",
   "metadata": {},
   "source": [
    "#### Observations:\n",
    "\n",
    "* Per problem statement, there are two unique landing pages, old and new, viewed by equal number of users(50)."
   ]
  },
  {
   "cell_type": "markdown",
   "id": "2e97e0d8",
   "metadata": {},
   "source": [
    "#### Converted"
   ]
  },
  {
   "cell_type": "code",
   "execution_count": 17,
   "id": "58e9a1d0",
   "metadata": {
    "id": "58e9a1d0"
   },
   "outputs": [
    {
     "data": {
      "text/plain": [
       "yes    54\n",
       "no     46\n",
       "Name: converted, dtype: int64"
      ]
     },
     "execution_count": 17,
     "metadata": {},
     "output_type": "execute_result"
    }
   ],
   "source": [
    "df['converted'].value_counts() # returns unique values in \"converted\" column"
   ]
  },
  {
   "cell_type": "code",
   "execution_count": 18,
   "id": "a95839bd",
   "metadata": {},
   "outputs": [
    {
     "data": {
      "image/png": "[encoded data removed]",
      "text/plain": [
       "<Figure size 640x480 with 1 Axes>"
      ]
     },
     "metadata": {},
     "output_type": "display_data"
    }
   ],
   "source": [
    "sns.countplot(data=df,x='converted') # plot to show counts of converted status\n",
    "plt.show()"
   ]
  },
  {
   "cell_type": "markdown",
   "id": "a6fcf69b",
   "metadata": {},
   "source": [
    "#### Observations:\n",
    "\n",
    "* 54 out of 100 users got converted to subscribers."
   ]
  },
  {
   "cell_type": "markdown",
   "id": "a5b35103",
   "metadata": {},
   "source": [
    "#### Language preferred"
   ]
  },
  {
   "cell_type": "code",
   "execution_count": 19,
   "id": "b378b0e5",
   "metadata": {},
   "outputs": [
    {
     "data": {
      "text/plain": [
       "Spanish    34\n",
       "French     34\n",
       "English    32\n",
       "Name: language_preferred, dtype: int64"
      ]
     },
     "execution_count": 19,
     "metadata": {},
     "output_type": "execute_result"
    }
   ],
   "source": [
    "df['language_preferred'].value_counts() # returns unique values in \"language_preferred\" column"
   ]
  },
  {
   "cell_type": "code",
   "execution_count": 20,
   "id": "f1629c59",
   "metadata": {},
   "outputs": [
    {
     "data": {
      "image/png": "[encoded data removed]",
      "text/plain": [
       "<Figure size 640x480 with 1 Axes>"
      ]
     },
     "metadata": {},
     "output_type": "display_data"
    }
   ],
   "source": [
    "sns.countplot(data=df,x='language_preferred') #plot to show counts of language preferred\n",
    "plt.show()"
   ]
  },
  {
   "cell_type": "markdown",
   "id": "e1887935",
   "metadata": {},
   "source": [
    "#### Observations:\n",
    "\n",
    "* Out of 100 users, there are 34 Spanish, 34 French and 32 English users."
   ]
  },
  {
   "cell_type": "markdown",
   "id": "fad2de2f",
   "metadata": {
    "id": "fad2de2f"
   },
   "source": [
    "### Bivariate Analysis"
   ]
  },
  {
   "cell_type": "markdown",
   "id": "0b0f7419",
   "metadata": {},
   "source": [
    "#### Landing page vs Time spent on the page"
   ]
  },
  {
   "cell_type": "code",
   "execution_count": 21,
   "id": "8f070dcd",
   "metadata": {},
   "outputs": [
    {
     "data": {
      "image/png": "[encoded data removed]",
      "text/plain": [
       "<Figure size 1000x600 with 1 Axes>"
      ]
     },
     "metadata": {},
     "output_type": "display_data"
    }
   ],
   "source": [
    "# boxplot to show distribution of landing page vs time spent on page\n",
    "plt.figure(figsize=(10,6))\n",
    "sns.boxplot(data=df,x='landing_page',y='time_spent_on_the_page')\n",
    "plt.show()"
   ]
  },
  {
   "cell_type": "markdown",
   "id": "0aaadc52",
   "metadata": {},
   "source": [
    "#### Observations:\n",
    "\n",
    "* Mean time spent on new landing page is higher than old landing page.\n",
    "* Minimum time spent on new page is higher than minimum time spent on old page.\n",
    "* There are some outliers in time spent on new landing page."
   ]
  },
  {
   "cell_type": "markdown",
   "id": "7880407a",
   "metadata": {},
   "source": [
    "#### Conversion status vs Time spent on the page"
   ]
  },
  {
   "cell_type": "code",
   "execution_count": 22,
   "id": "5476c23a",
   "metadata": {},
   "outputs": [
    {
     "data": {
      "image/png": "[encoded data removed]",
      "text/plain": [
       "<Figure size 900x900 with 1 Axes>"
      ]
     },
     "metadata": {},
     "output_type": "display_data"
    }
   ],
   "source": [
    "# boxplot to show distribution of conversion status vs time spent on page\n",
    "plt.figure(figsize=(9, 9))\n",
    "sns.boxplot(data = df, x = 'converted', y = 'time_spent_on_the_page')\n",
    "plt.show()"
   ]
  },
  {
   "cell_type": "markdown",
   "id": "7dea3063",
   "metadata": {},
   "source": [
    "#### Observations:\n",
    "\n",
    "* Users who got converted to subscribers spent more mean time on page than users who did not convert."
   ]
  },
  {
   "cell_type": "markdown",
   "id": "deed88f8",
   "metadata": {},
   "source": [
    "#### Language Preferred vs Time spent on the page"
   ]
  },
  {
   "cell_type": "code",
   "execution_count": 23,
   "id": "9992240c",
   "metadata": {},
   "outputs": [
    {
     "data": {
      "image/png": "[encoded data removed]",
      "text/plain": [
       "<Figure size 900x900 with 1 Axes>"
      ]
     },
     "metadata": {},
     "output_type": "display_data"
    }
   ],
   "source": [
    "# boxplot to show distribution of language preferred vs time spent on page\n",
    "plt.figure(figsize=(9, 9))\n",
    "sns.boxplot(data = df, x = 'language_preferred', y ='time_spent_on_the_page')\n",
    "plt.show()"
   ]
  },
  {
   "cell_type": "markdown",
   "id": "ca64e37f",
   "metadata": {},
   "source": [
    "#### Observations:\n",
    "\n",
    "* Mean time spent on page by all three language users is between 5 - 6 minutes.\n",
    "* English users spent the highest mean time on page, followed by Spanish and French."
   ]
  },
  {
   "cell_type": "markdown",
   "id": "27906576",
   "metadata": {
    "id": "27906576"
   },
   "source": [
    "## 1. Do users spend more time on new landing page than existing landing page?"
   ]
  },
  {
   "cell_type": "markdown",
   "id": "e5fdf0c8",
   "metadata": {
    "id": "e5fdf0c8"
   },
   "source": [
    "### Step 1: Perform Visual Analysis"
   ]
  },
  {
   "cell_type": "markdown",
   "id": "51bf805b",
   "metadata": {
    "id": "6eZJa41eg21n"
   },
   "source": [
    "#### Landing page vs Time spent on the page"
   ]
  },
  {
   "cell_type": "code",
   "execution_count": 24,
   "id": "eefcc888",
   "metadata": {},
   "outputs": [
    {
     "data": {
      "image/png": "[encoded data removed]",
      "text/plain": [
       "<Figure size 1000x600 with 1 Axes>"
      ]
     },
     "metadata": {},
     "output_type": "display_data"
    }
   ],
   "source": [
    "# boxplot to show distribution of landing page vs time spent on page\n",
    "plt.figure(figsize=(10,6))\n",
    "sns.boxplot(data=df,x='landing_page',y='time_spent_on_the_page')\n",
    "plt.show()"
   ]
  },
  {
   "cell_type": "markdown",
   "id": "84bd10d1",
   "metadata": {},
   "source": [
    "#### Observations:\n",
    "\n",
    "* Median time spent on landing page(old) is about 4.2 minutes.\n",
    "* Median time spent on landing page(new) is about 6 minutes.\n",
    "* Time spent on old landing page ranges between 0 and 10 minutes(approximately).\n",
    "* Time spent on new landing page ranges between 3 and 7 minutes (approximately).\n",
    "* New landing page shows some outliers in data (users outside the range of time spent on page), some users spending less than the 2 minutes, some users spending more than 10 minutes.\n",
    "* Visual analysis suggests users spend more time on new versus old landing page. Lets continue to test statistically."
   ]
  },
  {
   "cell_type": "markdown",
   "id": "56b3dafd",
   "metadata": {
    "id": "56b3dafd"
   },
   "source": [
    "### Step 2: Define null and alternate hypotheses"
   ]
  },
  {
   "cell_type": "markdown",
   "id": "2389167c",
   "metadata": {
    "id": "d2ac77ef"
   },
   "source": [
    "Null $H_0$: Mean time spent on new landing page is less than or equal to, mean time spent on old landing page.\n",
    "\n",
    "Alternate $H_a$: Mean time spent on new landing page is more than, mean time spent on old landing page.\n"
   ]
  },
  {
   "cell_type": "markdown",
   "id": "c7ee4907",
   "metadata": {
    "id": "c7ee4907"
   },
   "source": [
    "### Step 3: Select Appropriate test and Decide significance level"
   ]
  },
  {
   "cell_type": "markdown",
   "id": "2c183cd7",
   "metadata": {
    "id": "2c183cd7"
   },
   "source": [
    "* This is a one-tailed test concerning two population means from two independent populations, population standard deviations are unknown. \n",
    "* Two sample independent t-test will be used.\n",
    "* As given in problem statement, select α = 0.05."
   ]
  },
  {
   "cell_type": "markdown",
   "id": "d30951b2",
   "metadata": {},
   "source": [
    "Check for two independent sample t-test assumptions:\n",
    "\n",
    "* Data is continuous - yes, time spent on landing pages are measured on a continuous scale.\n",
    "* Normally distributed populations - population distributions are assumed to be normal.\n",
    "* Populations are independent - new and old landing page users are two independent populations.\n",
    "* Unequal population standard deviations - as sample std deviations are different,population std deviations are assumed to be different.\n",
    "* Random sampling from populations - yes, users were selected randomly.\n",
    "* Yes, we can use two independent sample t-test as assumptions are satisfied."
   ]
  },
  {
   "cell_type": "markdown",
   "id": "5fed2eac",
   "metadata": {
    "id": "5fed2eac"
   },
   "source": [
    "### Step 4: Collect and prepare data to calculate p-value"
   ]
  },
  {
   "cell_type": "code",
   "execution_count": 25,
   "id": "f5a59495",
   "metadata": {
    "id": "f5a59495"
   },
   "outputs": [],
   "source": [
    "# data frame subset for new landing page users \n",
    "time_spent_new = df[df['landing_page'] == 'new']['time_spent_on_the_page']\n",
    "\n",
    "# data frame subset for old landing page users\n",
    "time_spent_old = df[df['landing_page'] == 'old']['time_spent_on_the_page']"
   ]
  },
  {
   "cell_type": "code",
   "execution_count": 26,
   "id": "49bd324e",
   "metadata": {},
   "outputs": [
    {
     "name": "stdout",
     "output_type": "stream",
     "text": [
      "Sample standard deviation of time spent(in minutes) on new page is: 1.82\n",
      "Sample standard deviation of time spent(in minutes) on old page is: 2.58\n"
     ]
    }
   ],
   "source": [
    "print('Sample standard deviation of time spent(in minutes) on new page is:', round(time_spent_new.std(),2))\n",
    "print('Sample standard deviation of time spent(in minutes) on old page is:', round(time_spent_old.std(),2))"
   ]
  },
  {
   "cell_type": "code",
   "execution_count": 27,
   "id": "fac8594a",
   "metadata": {
    "id": "fac8594a"
   },
   "outputs": [
    {
     "name": "stdout",
     "output_type": "stream",
     "text": [
      "The p-value is 0.0001392381225166549\n"
     ]
    }
   ],
   "source": [
    "# import required function\n",
    "from scipy.stats import ttest_ind\n",
    "\n",
    "# calculate test_statistic and p_value\n",
    "test_stat, p_value = ttest_ind(time_spent_new, time_spent_old, equal_var = False, alternative = 'greater')\n",
    "\n",
    "print('The p-value is', p_value)"
   ]
  },
  {
   "cell_type": "markdown",
   "id": "359b12f8",
   "metadata": {
    "id": "359b12f8"
   },
   "source": [
    "### Step 5: Draw inference"
   ]
  },
  {
   "cell_type": "code",
   "execution_count": 28,
   "id": "10b2bcad",
   "metadata": {},
   "outputs": [
    {
     "name": "stdout",
     "output_type": "stream",
     "text": [
      "As p-value 0.0001392381225166549 is less than level of significance, we reject null hypothesis.\n"
     ]
    }
   ],
   "source": [
    "# print the conclusion based on p-value\n",
    "if p_value < 0.05:\n",
    "    print(f'As p-value {p_value} is less than level of significance, we reject null hypothesis.')\n",
    "else:\n",
    "    print(f'As p-value {p_value} is greater than level of significance, we fail to reject null hypothesis.')"
   ]
  },
  {
   "cell_type": "markdown",
   "id": "6b16dd4b",
   "metadata": {
    "id": "6b16dd4b"
   },
   "source": [
    "* Since p_value is less than 0.05, null hypothesis is rejected.\n",
    "* Thus, there is enough statistical evidence to say users spend more time on new landing page than existing landing page."
   ]
  },
  {
   "cell_type": "markdown",
   "id": "353e9d24",
   "metadata": {
    "id": "353e9d24"
   },
   "source": [
    "## 2. Is the conversion rate (the proportion of users who visit the landing page and get converted) for the new page greater than the conversion rate for the old page?"
   ]
  },
  {
   "cell_type": "markdown",
   "id": "840be390",
   "metadata": {},
   "source": [
    "### Step 1: Perform Visual Analysis"
   ]
  },
  {
   "cell_type": "code",
   "execution_count": 29,
   "id": "b7f52898",
   "metadata": {
    "id": "b7f52898"
   },
   "outputs": [
    {
     "data": {
      "image/png": "[encoded data removed]",
      "text/plain": [
       "<Figure size 600x800 with 1 Axes>"
      ]
     },
     "metadata": {},
     "output_type": "display_data"
    }
   ],
   "source": [
    "# stacked barplot to analyze new page conversion rate and old page conversion rate\n",
    "pd.crosstab(df[\"landing_page\"],df[\"converted\"],normalize='index').plot(kind=\"bar\", figsize=(6,8),stacked=True)\n",
    "plt.legend()\n",
    "plt.show()"
   ]
  },
  {
   "cell_type": "markdown",
   "id": "2b43d7ad",
   "metadata": {},
   "source": [
    "#### Observations:\n",
    "\n",
    "* Visual analysis suggests new landing page has higher conversion rate than old landing page. Lets continue to test statistically."
   ]
  },
  {
   "cell_type": "markdown",
   "id": "d239831f",
   "metadata": {},
   "source": [
    "### Step 2: Define null and alternate hypotheses"
   ]
  },
  {
   "cell_type": "markdown",
   "id": "2ca4cd0c",
   "metadata": {},
   "source": [
    "Null $H_0$: Conversion rate of new landing page is less than or equal to, conversion rate of old landing page.\n",
    "\n",
    "Alternate $H_a$: Conversion rate of new landing page is greater than conversion rate of old landing page."
   ]
  },
  {
   "cell_type": "markdown",
   "id": "2899e1ea",
   "metadata": {},
   "source": [
    "### Step 3: Select Appropriate test and Decide significance level"
   ]
  },
  {
   "cell_type": "markdown",
   "id": "3f08a390",
   "metadata": {},
   "source": [
    "* This is a one-tailed test concerning two population proportions from two independent populations. \n",
    "* Two proportions z-test will be used.\n",
    "* As given in problem statement, select α = 0.05."
   ]
  },
  {
   "cell_type": "markdown",
   "id": "7d79e6a0",
   "metadata": {},
   "source": [
    "Check for Two proportions z-test assumptions:\n",
    "\n",
    "* Binomally distributed population - Yes, user is either converted(yes) or not(no).\n",
    "* Random sampling from population - Yes, users were selected randomly.\n",
    "* Can the binomial distribution approximated to normal distribution - Yes.\n",
    "* Yes, assumptions satisfied, Two proportions z-test can be used."
   ]
  },
  {
   "cell_type": "markdown",
   "id": "32f2f3e7",
   "metadata": {},
   "source": [
    "### Step 4: Collect and prepare data to calculate p-value"
   ]
  },
  {
   "cell_type": "code",
   "execution_count": 30,
   "id": "c06c3dde",
   "metadata": {
    "scrolled": true
   },
   "outputs": [
    {
     "name": "stdout",
     "output_type": "stream",
     "text": [
      "The numbers of users served new and old pages are 50 and 50 respectively\n",
      "The numbers of users converted in control and treatment groups are 21 and 33 respectively\n",
      "Conversion rate for new page: 0.66\n",
      "Conversion rate for old page: 0.42\n"
     ]
    }
   ],
   "source": [
    "# import required fuction\n",
    "from statsmodels.stats.proportion import proportions_ztest\n",
    "\n",
    "# number of converted users in treatment group\n",
    "new_converted = df[df['group'] == 'treatment']['converted'].value_counts()['yes']\n",
    "\n",
    "# number of converted users in control group\n",
    "old_converted = df[df['group'] == 'control']['converted'].value_counts()['yes']\n",
    "\n",
    "n_control = df.group.value_counts()['control'] # total number of users in control group(old page)\n",
    "n_treatment = df.group.value_counts()['treatment'] # total number of users in treatment group(new page)\n",
    "\n",
    "print('The numbers of users served new and old pages are {0} and {1} respectively'.format(n_control, n_treatment ))\n",
    "print('The numbers of users converted in control and treatment groups are {0} and {1} respectively'.format(old_converted, new_converted))\n",
    "\n",
    "conversion_rate_new = new_converted/n_treatment  # old page conversion rate\n",
    "print(\"Conversion rate for new page:\", conversion_rate_new)\n",
    "conversion_rate_old = old_converted/n_control # new page conversion rate\n",
    "print (\"Conversion rate for old page:\", conversion_rate_old)"
   ]
  },
  {
   "cell_type": "code",
   "execution_count": 31,
   "id": "1e791967",
   "metadata": {},
   "outputs": [
    {
     "name": "stdout",
     "output_type": "stream",
     "text": [
      "The p-value is 0.016052616408112556\n"
     ]
    }
   ],
   "source": [
    "# set counts of converted users\n",
    "converted_count = np.array([old_converted,new_converted])\n",
    "\n",
    "# set sample sizes\n",
    "nobs = np.array([n_control, n_treatment])\n",
    "\n",
    "test_stat, p_value = proportions_ztest(converted_count, nobs)\n",
    "print('The p-value is ' + str(p_value))"
   ]
  },
  {
   "cell_type": "markdown",
   "id": "d3c52d7c",
   "metadata": {},
   "source": [
    "### Step 5: Draw Inference\n",
    "\n",
    "* As p-value is less than significance level 0.05, null hypothesis is rejected. \n",
    "* Thus, there is enough statistical evidence to say conversion rate of new landing page is greater than conversion rate of old landing page."
   ]
  },
  {
   "cell_type": "markdown",
   "id": "d49bfa2d",
   "metadata": {
    "id": "d49bfa2d"
   },
   "source": [
    "## 3. Are conversion and preferred language independent or related?"
   ]
  },
  {
   "cell_type": "markdown",
   "id": "2be3f11d",
   "metadata": {},
   "source": [
    "### Step 1: Perform Visual Analysis"
   ]
  },
  {
   "cell_type": "code",
   "execution_count": 32,
   "id": "fd2e7729",
   "metadata": {},
   "outputs": [
    {
     "data": {
      "image/png": "[encoded data removed]",
      "text/plain": [
       "<Figure size 600x800 with 1 Axes>"
      ]
     },
     "metadata": {},
     "output_type": "display_data"
    }
   ],
   "source": [
    "# stacked barplot to analyze dependence between conversion status and preferred langauge\n",
    "pd.crosstab(df[\"converted\"],df[\"language_preferred\"],normalize='index').plot(kind=\"bar\", figsize=(6,8), stacked=True)\n",
    "plt.legend()\n",
    "plt.show()"
   ]
  },
  {
   "cell_type": "markdown",
   "id": "62094c46",
   "metadata": {},
   "source": [
    "### Observations:\n",
    "\n",
    "* Visual analysis suggests English language users showing most conversions, followed by Spanish and French."
   ]
  },
  {
   "cell_type": "markdown",
   "id": "1152ee1a",
   "metadata": {
    "id": "b0e63f17"
   },
   "source": [
    "### Step 2: Define null and alternate hypotheses"
   ]
  },
  {
   "cell_type": "markdown",
   "id": "7f2c28da",
   "metadata": {},
   "source": [
    "Null hypothesis: $H_0:$ Conversion is independent of preferred language.\n",
    "\n",
    "Alternate hypothesis:  $H_a$: Conversion is not independent on preferred language."
   ]
  },
  {
   "cell_type": "markdown",
   "id": "5f559445",
   "metadata": {},
   "source": [
    "### Step 3: Select Appropriate test and Decide significance level"
   ]
  },
  {
   "cell_type": "markdown",
   "id": "59bcea88",
   "metadata": {},
   "source": [
    "* This is a test of independence, concerning two categorical variables - converted status and preferred language.\n",
    "* Chi-square test of independence will be used.\n",
    "* As given in problem statement, select α = 0.05."
   ]
  },
  {
   "cell_type": "markdown",
   "id": "afafdc2f",
   "metadata": {},
   "source": [
    "Check for Chi-square test of independence assumptions:\n",
    "* Categorical variables - Yes\n",
    "* Expected value of number of sample observations in each level of the variable is at least 5 - Yes, the number of observations in each level is greater than 5.\n",
    "* Random sampling from the population - Yes, we are informed that the collected sample is a simple random sample."
   ]
  },
  {
   "cell_type": "markdown",
   "id": "fd4a1845",
   "metadata": {},
   "source": [
    "### Step 4: Collect and prepare data to calculate p-value"
   ]
  },
  {
   "cell_type": "code",
   "execution_count": 33,
   "id": "e1785dab",
   "metadata": {},
   "outputs": [
    {
     "data": {
      "text/html": [
       "<div>\n",
       "<style scoped>\n",
       "    .dataframe tbody tr th:only-of-type {\n",
       "        vertical-align: middle;\n",
       "    }\n",
       "\n",
       "    .dataframe tbody tr th {\n",
       "        vertical-align: top;\n",
       "    }\n",
       "\n",
       "    .dataframe thead th {\n",
       "        text-align: right;\n",
       "    }\n",
       "</style>\n",
       "<table border=\"1\" class=\"dataframe\">\n",
       "  <thead>\n",
       "    <tr style=\"text-align: right;\">\n",
       "      <th>language_preferred</th>\n",
       "      <th>English</th>\n",
       "      <th>French</th>\n",
       "      <th>Spanish</th>\n",
       "    </tr>\n",
       "    <tr>\n",
       "      <th>converted</th>\n",
       "      <th></th>\n",
       "      <th></th>\n",
       "      <th></th>\n",
       "    </tr>\n",
       "  </thead>\n",
       "  <tbody>\n",
       "    <tr>\n",
       "      <th>no</th>\n",
       "      <td>11</td>\n",
       "      <td>19</td>\n",
       "      <td>16</td>\n",
       "    </tr>\n",
       "    <tr>\n",
       "      <th>yes</th>\n",
       "      <td>21</td>\n",
       "      <td>15</td>\n",
       "      <td>18</td>\n",
       "    </tr>\n",
       "  </tbody>\n",
       "</table>\n",
       "</div>"
      ],
      "text/plain": [
       "language_preferred  English  French  Spanish\n",
       "converted                                   \n",
       "no                       11      19       16\n",
       "yes                      21      15       18"
      ]
     },
     "execution_count": 33,
     "metadata": {},
     "output_type": "execute_result"
    }
   ],
   "source": [
    "# import required function\n",
    "from scipy.stats import chi2_contingency\n",
    "\n",
    "# contingency table with converted users, preferred language variables\n",
    "contingency_table = pd.crosstab(df[\"converted\"],df[\"language_preferred\"])\n",
    "contingency_table"
   ]
  },
  {
   "cell_type": "code",
   "execution_count": 34,
   "id": "71610020",
   "metadata": {},
   "outputs": [
    {
     "name": "stdout",
     "output_type": "stream",
     "text": [
      "The p-value is 0.21298887487543447\n",
      "As p-value 0.21298887487543447 is greater than level of significance, we fail to reject null hypothesis.\n"
     ]
    }
   ],
   "source": [
    "# print p_value using chi2_contingency test\n",
    "chi, p_value, dof, expected = chi2_contingency(contingency_table)\n",
    "print('The p-value is', p_value)\n",
    "\n",
    "# print conclusion based on p-value\n",
    "if p_value < 0.05:\n",
    "    print(f'As p-value {p_value} is less than level of significance, we reject null hypothesis.')\n",
    "else:\n",
    "    print(f'As p-value {p_value} is greater than level of significance, we fail to reject null hypothesis.')"
   ]
  },
  {
   "cell_type": "markdown",
   "id": "1c49a7b4",
   "metadata": {},
   "source": [
    "### Step 5: Draw Inference"
   ]
  },
  {
   "cell_type": "markdown",
   "id": "e474a4c4",
   "metadata": {},
   "source": [
    "* As p-value is greater than significance level 0.05, we fail to reject null hypothesis.\n",
    "* Thus, there is enough statistical evidence to say conversion rate is independent of language."
   ]
  },
  {
   "cell_type": "markdown",
   "id": "8d585a90",
   "metadata": {
    "id": "8d585a90"
   },
   "source": [
    "## 4. Is the time spent on new page same for different language users?"
   ]
  },
  {
   "cell_type": "markdown",
   "id": "b9b23f03",
   "metadata": {},
   "source": [
    "### Step 1: Perform Visual Analysis"
   ]
  },
  {
   "cell_type": "code",
   "execution_count": 35,
   "id": "b422f395",
   "metadata": {
    "id": "b422f395"
   },
   "outputs": [],
   "source": [
    "# DataFrame for users who got served the new page\n",
    "df_new = df[df['landing_page'] == 'new']"
   ]
  },
  {
   "cell_type": "code",
   "execution_count": 36,
   "id": "6bb0c1c5",
   "metadata": {},
   "outputs": [
    {
     "name": "stdout",
     "output_type": "stream",
     "text": [
      "Spanish    17\n",
      "French     17\n",
      "English    16\n",
      "Name: language_preferred, dtype: int64\n"
     ]
    }
   ],
   "source": [
    "# number of users for each language\n",
    "print(df_new[\"language_preferred\"].value_counts())"
   ]
  },
  {
   "cell_type": "code",
   "execution_count": 37,
   "id": "de832825",
   "metadata": {},
   "outputs": [
    {
     "name": "stdout",
     "output_type": "stream",
     "text": [
      "language_preferred\n",
      "English    6.663750\n",
      "French     6.196471\n",
      "Spanish    5.835294\n",
      "Name: time_spent_on_the_page, dtype: float64\n"
     ]
    }
   ],
   "source": [
    "# mean time spent on new landing page by different language users\n",
    "print(df_new.groupby(\"language_preferred\")[\"time_spent_on_the_page\"].mean())"
   ]
  },
  {
   "cell_type": "code",
   "execution_count": 38,
   "id": "ae9e4529",
   "metadata": {
    "scrolled": true
   },
   "outputs": [
    {
     "data": {
      "image/png": "[encoded data removed]",
      "text/plain": [
       "<Figure size 800x800 with 1 Axes>"
      ]
     },
     "metadata": {},
     "output_type": "display_data"
    }
   ],
   "source": [
    "# boxplot to visually plot time spent on new page for different language users\n",
    "plt.figure(figsize=(8,8))\n",
    "a = sns.boxplot(x = \"language_preferred\", y = \"time_spent_on_the_page\", showmeans = True, data = df_new, hue = 'language_preferred')\n",
    "a.set_title(\"Time spent on new landing page for language users(3 levels)\", fontsize=10)\n",
    "plt.show()"
   ]
  },
  {
   "cell_type": "markdown",
   "id": "2e48a3b2",
   "metadata": {},
   "source": [
    "### Observations:\n",
    "\n",
    "* English users spend highest average time on new page (6.66 minutes), followed by French(6.19 minutes) and Spanish(5.83 minutes)."
   ]
  },
  {
   "cell_type": "markdown",
   "id": "c2a65120",
   "metadata": {},
   "source": [
    "### Step 2: Define null and alternate hypotheses"
   ]
  },
  {
   "cell_type": "markdown",
   "id": "91e466cb",
   "metadata": {},
   "source": [
    "Null: $H_0:$  Mean time spent on new landing page is same for three language users.\n",
    "\n",
    "Alternate: $H_a:$ At least one, mean time spent on new landing page, is different from other two languages."
   ]
  },
  {
   "cell_type": "markdown",
   "id": "3df3c644",
   "metadata": {},
   "source": [
    "### Step 3: Select Appropriate test and Decide significance level"
   ]
  },
  {
   "cell_type": "markdown",
   "id": "bbc6da48",
   "metadata": {},
   "source": [
    "This is a problem, concerning three population means. Analysis of Variance Test(ANOVA) will be used."
   ]
  },
  {
   "cell_type": "markdown",
   "id": "0ca63a02",
   "metadata": {},
   "source": [
    "Check normality and equality of variance assumptions: \n",
    "\n",
    "* For testing of normality, Shapiro-Wilk’s test is applied to the response variable.\n",
    "* For equality of variance, Levene test is applied to the response variable.\n",
    "* As given in problem statement, select α = 0.05."
   ]
  },
  {
   "cell_type": "markdown",
   "id": "c5e9de40",
   "metadata": {},
   "source": [
    "### Shapiro-Wilk’s test\n",
    "\n",
    "Null hypothesis:\n",
    "\n",
    ">$H_0:$ Mean time spent on the page follows a normal distribution\n",
    "\n",
    "Alternate hypothesis:\n",
    "\n",
    ">$H_a:$ Mean time spent on the page does not follow a normal distribution"
   ]
  },
  {
   "cell_type": "code",
   "execution_count": 39,
   "id": "5a280698",
   "metadata": {},
   "outputs": [
    {
     "name": "stdout",
     "output_type": "stream",
     "text": [
      "The p-value is 0.8040016293525696\n"
     ]
    }
   ],
   "source": [
    "# Assumption 1: Normality\n",
    "# import the required function\n",
    "from scipy import stats\n",
    "\n",
    "# find the p-value\n",
    "w, p_value = stats.shapiro(df_new['time_spent_on_the_page']) \n",
    "print('The p-value is', p_value)"
   ]
  },
  {
   "cell_type": "markdown",
   "id": "cc6986a7",
   "metadata": {},
   "source": [
    "* Since p_value is greater than 0.05, we fail to reject null hypothesis.\n",
    "* Hence, there is enough evidence to say time_spent_on_the_page follows a normal distribution."
   ]
  },
  {
   "cell_type": "markdown",
   "id": "22b34641",
   "metadata": {},
   "source": [
    "### Levene’s test\n",
    "\n",
    "Null hypothesis:\n",
    "\n",
    ">$H_0$: All the population variances are equal\n",
    "\n",
    "Alternate hypothesis:\n",
    "\n",
    ">$H_a$: At least one variance is different from the rest"
   ]
  },
  {
   "cell_type": "code",
   "execution_count": 40,
   "id": "7024b4d2",
   "metadata": {},
   "outputs": [
    {
     "name": "stdout",
     "output_type": "stream",
     "text": [
      "The p-value is 0.46711357711340173\n"
     ]
    }
   ],
   "source": [
    "#Assumption 2: Homogeneity of Variance\n",
    "#import required function\n",
    "\n",
    "from scipy.stats import levene\n",
    "statistic, p_value = levene( df_new['time_spent_on_the_page'][df_new['language_preferred']==\"English\"], \n",
    "                             df_new['time_spent_on_the_page'][df_new['language_preferred']==\"French\"], \n",
    "                             df_new['time_spent_on_the_page'][df_new['language_preferred']==\"Spanish\"])\n",
    "\n",
    "print('The p-value is', p_value)"
   ]
  },
  {
   "cell_type": "markdown",
   "id": "c9939229",
   "metadata": {},
   "source": [
    "* Since p_value is greater than 0.05, we fail to reject null hypothesis.\n",
    "* Hence, there is enough evidence to say all population variances are equal."
   ]
  },
  {
   "cell_type": "markdown",
   "id": "859d6ea8",
   "metadata": {},
   "source": [
    "### ANOVA test assumptions\n",
    "\n",
    "* The populations are normally distributed - Yes, the normality assumption is verified using Shapiro-Wilk’s test.\n",
    "* Samples are independent simple random samples - Yes, we are informed that the collected sample is a simple random sample.\n",
    "* Population variances are equal - Yes, the homogeneity of variance assumption is verified using Levene's test.\n",
    "* One way Anova test assumptions are satisfied."
   ]
  },
  {
   "cell_type": "markdown",
   "id": "816d3c78",
   "metadata": {},
   "source": [
    "### Step 4: Collect and prepare data to calculate p-value"
   ]
  },
  {
   "cell_type": "code",
   "execution_count": 41,
   "id": "108fdb63",
   "metadata": {
    "scrolled": true
   },
   "outputs": [
    {
     "name": "stdout",
     "output_type": "stream",
     "text": [
      "The p-value is 0.43204138694325955\n"
     ]
    }
   ],
   "source": [
    "#import required function\n",
    "from scipy.stats import f_oneway\n",
    "\n",
    "# perform one-way anova test\n",
    "test_stat, p_value = f_oneway(df_new.loc[df_new['language_preferred'] == 'English', 'time_spent_on_the_page'],\n",
    "                              df_new.loc[df_new['language_preferred'] == 'French', 'time_spent_on_the_page'],\n",
    "                              df_new.loc[df_new['language_preferred'] == 'Spanish', 'time_spent_on_the_page'])\n",
    "print('The p-value is ' + str(p_value))"
   ]
  },
  {
   "cell_type": "markdown",
   "id": "a6dc35de",
   "metadata": {},
   "source": [
    "### Step 5: Draw Inference"
   ]
  },
  {
   "cell_type": "markdown",
   "id": "43a9d8e7",
   "metadata": {},
   "source": [
    "* As p-value is greater than 0.05, we fail to reject null hypothesis.\n",
    "* Hence, there is enough statistical evidence to say mean time spent on new landing page is same for the three language users."
   ]
  },
  {
   "cell_type": "markdown",
   "id": "3acbc947",
   "metadata": {
    "id": "3acbc947"
   },
   "source": [
    "## Conclusions"
   ]
  },
  {
   "cell_type": "markdown",
   "id": "a0b4c9aa",
   "metadata": {},
   "source": [
    "* Mean time spent on old landing page is 4.2 minutes, new landing page is 6 minutes.\n",
    "* There is enough statistical evidence to say users spend more time on new landing page than existing landing page.\n",
    "* Treatment group(50 users) was served new landing page, control group(50 users) was served old landing page. \n",
    "* 54 out of 100 users got converted to subscribers. 42% conversion rate for old page(21/50), 66% conversion rate for new page(33/50).\n",
    "* There is enough statistical evidence to say conversion rate of new landing page is greater than conversion rate of old landing page.\n",
    "* Out of 100 users, there are 34 Spanish, 34 French and 32 English users.\n",
    "* There is enough statistical evidence to say conversion status and language are independent.\n",
    "* Mean time spent on new page by English users is 6.66 minutes, French users 6.19 minutes, Spanish users 5.83 minutes. \n",
    "* There is enough statistical evidence to say mean time spent on new landing page is same for three language users."
   ]
  },
  {
   "cell_type": "markdown",
   "id": "53d0e5e3",
   "metadata": {},
   "source": [
    "## Business Recommendations"
   ]
  },
  {
   "cell_type": "markdown",
   "id": "21fb1063",
   "metadata": {
    "id": "21fb1063"
   },
   "source": [
    "\n",
    "* Enews Express needs to look at more data, month over month trend for current versus past year to further understand user patterns.\n",
    "* User demographics like age, gender,occupation, geographic factors like city, country of residence needs to be involved in analysis.\n",
    "* Enews Express can continue efforts to boost content, incorporate multimedia elements on landing page, adding demographic specific ads, optimize mobile device usage, localize content per age/location demographic, add live chat feature for interaction to increase user engagement.\n",
    "* In addition to number of users, KPI metrics like number of user sessions, average session duration, number of pages per session, scroll depth, subscriber acquisition cost can be used to analyze user engagement.\n",
    "* Understanding ranking position of Enews Express portal among search engines is to be considered.\n",
    "* Enews Express can optimize website loading speed for ease of user interaction.\n",
    "* Enews Express can meet target audience expectations by running creative mobile marketing offers, keep subscription process steps quick and easy.\n",
    "* Enews Express to test all marketing offers.\n",
    "* Enews Express can use social media sentiment analysis, to gauge social media interaction with website content.\n",
    "* Social media analytics involving average view duration can show what content is popular, which can drive decisions about how to boost content and in turn drive up subsribtion rate.\n"
   ]
  },
  {
   "cell_type": "markdown",
   "id": "U0dAd4i0iCHo",
   "metadata": {
    "id": "U0dAd4i0iCHo"
   },
   "source": [
    "___"
   ]
  }
 ],
 "metadata": {
  "colab": {
   "collapsed_sections": [
    "a6a3d218",
    "6970dd99",
    "9d75cfa2",
    "68f3b2c9",
    "fad2de2f",
    "27906576",
    "e5fdf0c8",
    "56b3dafd",
    "c7ee4907",
    "3f58c9a7",
    "5fed2eac",
    "f5c5258d",
    "359b12f8",
    "d9affc84",
    "353e9d24",
    "d49bfa2d",
    "8d585a90",
    "3acbc947"
   ],
   "name": "ENews_Express_Learner_Notebook_Full_Code v1.1.ipynb",
   "provenance": []
  },
  "kernelspec": {
   "display_name": "Python 3 (ipykernel)",
   "language": "python",
   "name": "python3"
  },
  "language_info": {
   "codemirror_mode": {
    "name": "ipython",
    "version": 3
   },
   "file_extension": ".py",
   "mimetype": "text/x-python",
   "name": "python",
   "nbconvert_exporter": "python",
   "pygments_lexer": "ipython3",
   "version": "3.9.13"
  }
 },
 "nbformat": 4,
 "nbformat_minor": 5
}
